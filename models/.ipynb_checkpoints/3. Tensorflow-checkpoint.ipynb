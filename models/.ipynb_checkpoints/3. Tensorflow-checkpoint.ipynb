{
 "cells": [
  {
   "cell_type": "code",
   "execution_count": 1,
   "metadata": {},
   "outputs": [],
   "source": [
    "import sklearn\n",
    "import pandas as pd\n",
    "import sqlite3\n",
    "import seaborn as sns\n",
    "import matplotlib.pyplot as plt\n",
    "from sklearn.model_selection import train_test_split\n",
    "from datetime import datetime\n",
    "from sklearn.metrics import mean_absolute_error, mean_squared_error\n",
    "from sklearn.preprocessing import StandardScaler\n",
    "from tensorflow import keras\n",
    "import tensorflow as tf\n",
    "import pickle\n",
    "import os\n",
    "import joblib\n",
    "\n",
    "import warnings\n",
    "warnings.filterwarnings('ignore')"
   ]
  },
  {
   "cell_type": "code",
   "execution_count": 2,
   "metadata": {},
   "outputs": [],
   "source": [
    "df_train = pd.read_pickle(\"./train_data.pkl\")\n",
    "df_test = pd.read_pickle(\"./test_data.pkl\")"
   ]
  },
  {
   "cell_type": "code",
   "execution_count": 3,
   "metadata": {},
   "outputs": [],
   "source": [
    "X_train = df_train.drop(['prijs'], axis=1)\n",
    "y_train = df_train[['prijs']]\n",
    "\n",
    "X_test = df_train.drop(['prijs'], axis=1)\n",
    "y_test = df_train[['prijs']]\n",
    "\n",
    "scaler = StandardScaler()\n",
    "X_train = scaler.fit_transform(X_train)\n",
    "X_test = scaler.transform(X_test)\n",
    "\n",
    "X_train_tf, X_valid, y_train_tf, y_valid = train_test_split(X_train, y_train)"
   ]
  },
  {
   "cell_type": "code",
   "execution_count": 17,
   "metadata": {},
   "outputs": [
    {
     "name": "stdout",
     "output_type": "stream",
     "text": [
      "5/5 [==============================] - 0s 935us/step - loss: 150854.8594 - mae: 310.6862 - mse: 150854.8594\n"
     ]
    },
    {
     "data": {
      "text/plain": [
       "(0.0, 500.0)"
      ]
     },
     "execution_count": 17,
     "metadata": {},
     "output_type": "execute_result"
    },
    {
     "data": {
      "image/png": "[encoded data removed]",
      "text/plain": [
       "<Figure size 720x360 with 1 Axes>"
      ]
     },
     "metadata": {
      "needs_background": "light"
     },
     "output_type": "display_data"
    }
   ],
   "source": [
    "model = keras.models.Sequential([\n",
    "    keras.layers.Dense(50, activation=\"relu\", input_shape=X_train.shape[1:]),\n",
    "    keras.layers.Dense(5, activation=\"relu\"),\n",
    "#     keras.layers.Dense(100, activation=\"relu\"),\n",
    "#     keras.layers.Dense(50, activation=\"relu\"),\n",
    "    keras.layers.Dense(1)\n",
    "])\n",
    "\n",
    "optimizer = keras.optimizers.Adam(learning_rate=0.005)\n",
    "\n",
    "model.compile(\n",
    "    loss=\"mean_squared_error\", \n",
    "    optimizer=optimizer, \n",
    "    metrics=['mae', 'mse']\n",
    ")\n",
    "\n",
    "callback = tf.keras.callbacks.EarlyStopping(monitor='loss', patience=5)\n",
    "\n",
    "history = model.fit(\n",
    "    X_train_tf, \n",
    "    y_train_tf, \n",
    "    batch_size=32, \n",
    "    epochs=500, \n",
    "    validation_data=(X_valid, y_valid),\n",
    "    verbose=0,\n",
    "    callbacks=[callback]\n",
    ")\n",
    "\n",
    "mse_test = model.evaluate(X_test, y_test)\n",
    "\n",
    "pd.DataFrame(history.history).plot(figsize=(10, 5)) \n",
    "plt.grid(True)\n",
    "plt.gca().set_ylim(0, 4000) \n",
    "plt.gca().set_xlim(0, len(history.history['loss'])) "
   ]
  },
  {
   "cell_type": "code",
   "execution_count": 18,
   "metadata": {},
   "outputs": [
    {
     "name": "stdout",
     "output_type": "stream",
     "text": [
      "INFO:tensorflow:Assets written to: TFAuto/assets\n"
     ]
    },
    {
     "data": {
      "text/plain": [
       "['TFAuto/TFScaler.pkl']"
      ]
     },
     "execution_count": 18,
     "metadata": {},
     "output_type": "execute_result"
    }
   ],
   "source": [
    "model_version = \"0001\"\n",
    "model_name = \"TFAuto\"\n",
    "model_path = os.path.join(model_name) \n",
    "model.save(model_path)\n",
    "scaler_path = os.path.join(model_name, 'TFScaler.pkl') \n",
    "joblib.dump(scaler, scaler_path) "
   ]
  },
  {
   "cell_type": "code",
   "execution_count": null,
   "metadata": {},
   "outputs": [],
   "source": []
  }
 ],
 "metadata": {
  "kernelspec": {
   "display_name": "Python 3",
   "language": "python",
   "name": "python3"
  },
  "language_info": {
   "codemirror_mode": {
    "name": "ipython",
    "version": 3
   },
   "file_extension": ".py",
   "mimetype": "text/x-python",
   "name": "python",
   "nbconvert_exporter": "python",
   "pygments_lexer": "ipython3",
   "version": "3.7.6"
  }
 },
 "nbformat": 4,
 "nbformat_minor": 4
}
