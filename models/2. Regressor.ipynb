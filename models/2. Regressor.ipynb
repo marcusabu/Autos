{
 "cells": [
  {
   "cell_type": "code",
   "execution_count": 1,
   "metadata": {},
   "outputs": [],
   "source": [
    "import sklearn\n",
    "import pandas as pd\n",
    "import numpy as np\n",
    "import sqlite3\n",
    "import seaborn as sns\n",
    "import joblib\n",
    "import pickle\n",
    "import matplotlib.pyplot as plt\n",
    "from datetime import datetime\n",
    "\n",
    "from sklearn.svm import SVR, SVC\n",
    "from sklearn.pipeline import Pipeline\n",
    "from sklearn.impute import SimpleImputer\n",
    "from sklearn.feature_selection import RFE\n",
    "from sklearn.compose import ColumnTransformer\n",
    "from sklearn.tree import DecisionTreeRegressor\n",
    "from sklearn.neural_network import MLPRegressor\n",
    "from sklearn.neighbors import KNeighborsRegressor\n",
    "from sklearn.metrics import mean_absolute_error, mean_squared_error\n",
    "from sklearn.linear_model import LinearRegression, Lasso, ElasticNet\n",
    "from sklearn.preprocessing import StandardScaler, OneHotEncoder, MinMaxScaler\n",
    "from sklearn.model_selection import train_test_split, GridSearchCV, cross_val_score, KFold, RandomizedSearchCV\n",
    "from sklearn.feature_extraction.text import HashingVectorizer, TfidfTransformer, CountVectorizer\n",
    "from sklearn.ensemble import RandomForestClassifier, RandomForestRegressor, GradientBoostingRegressor\n",
    "from sklearn.base import BaseEstimator, TransformerMixin\n",
    "\n",
    "import warnings\n",
    "warnings.filterwarnings('ignore')\n",
    "\n",
    "def evaluate_model(y_test, y_pred):\n",
    "    print(\"Mean absolute error:\\t\", int(mean_absolute_error(y_test, y_pred)))\n",
    "    print(\"Mean squared error:\\t\", int(mean_squared_error(y_test, y_pred)))"
   ]
  },
  {
   "cell_type": "code",
   "execution_count": 2,
   "metadata": {},
   "outputs": [
    {
     "data": {
      "text/html": [
       "<div>\n",
       "<style scoped>\n",
       "    .dataframe tbody tr th:only-of-type {\n",
       "        vertical-align: middle;\n",
       "    }\n",
       "\n",
       "    .dataframe tbody tr th {\n",
       "        vertical-align: top;\n",
       "    }\n",
       "\n",
       "    .dataframe thead th {\n",
       "        text-align: right;\n",
       "    }\n",
       "</style>\n",
       "<table border=\"1\" class=\"dataframe\">\n",
       "  <thead>\n",
       "    <tr style=\"text-align: right;\">\n",
       "      <th></th>\n",
       "      <th>bouwjaar</th>\n",
       "      <th>kilometer_stand</th>\n",
       "      <th>vermogen</th>\n",
       "      <th>prijs</th>\n",
       "      <th>is_handgeschakeld</th>\n",
       "      <th>is_benzine</th>\n",
       "      <th>titel</th>\n",
       "    </tr>\n",
       "  </thead>\n",
       "  <tbody>\n",
       "    <tr>\n",
       "      <th>0</th>\n",
       "      <td>2008</td>\n",
       "      <td>169504</td>\n",
       "      <td>78</td>\n",
       "      <td>2950</td>\n",
       "      <td>0.0</td>\n",
       "      <td>1</td>\n",
       "      <td>Fiat Grande Punto 1.416V Emotion 5dr Automaat ...</td>\n",
       "    </tr>\n",
       "    <tr>\n",
       "      <th>1</th>\n",
       "      <td>2007</td>\n",
       "      <td>219718</td>\n",
       "      <td>65</td>\n",
       "      <td>1950</td>\n",
       "      <td>1.0</td>\n",
       "      <td>1</td>\n",
       "      <td>Fiat Grande Punto 1.2 Edizione Cool AIRCO,CRUI...</td>\n",
       "    </tr>\n",
       "    <tr>\n",
       "      <th>2</th>\n",
       "      <td>2006</td>\n",
       "      <td>199908</td>\n",
       "      <td>95</td>\n",
       "      <td>1895</td>\n",
       "      <td>1.0</td>\n",
       "      <td>1</td>\n",
       "      <td>Fiat Grande Punto 1.416V Emotion AIRCO/APK</td>\n",
       "    </tr>\n",
       "    <tr>\n",
       "      <th>3</th>\n",
       "      <td>2006</td>\n",
       "      <td>139057</td>\n",
       "      <td>65</td>\n",
       "      <td>2950</td>\n",
       "      <td>1.0</td>\n",
       "      <td>1</td>\n",
       "      <td>Fiat Grande Punto 1.2 Sportsound met Nap, Airco</td>\n",
       "    </tr>\n",
       "    <tr>\n",
       "      <th>4</th>\n",
       "      <td>2007</td>\n",
       "      <td>222844</td>\n",
       "      <td>95</td>\n",
       "      <td>1950</td>\n",
       "      <td>1.0</td>\n",
       "      <td>1</td>\n",
       "      <td>Fiat Grande Punto 1.416V Emotion APK/NAP/CLIMA</td>\n",
       "    </tr>\n",
       "    <tr>\n",
       "      <th>5</th>\n",
       "      <td>2008</td>\n",
       "      <td>187215</td>\n",
       "      <td>65</td>\n",
       "      <td>2450</td>\n",
       "      <td>1.0</td>\n",
       "      <td>1</td>\n",
       "      <td>Fiat Grande Punto 1.2 Active AIRCO APK 2019 (b...</td>\n",
       "    </tr>\n",
       "    <tr>\n",
       "      <th>6</th>\n",
       "      <td>2010</td>\n",
       "      <td>194607</td>\n",
       "      <td>86</td>\n",
       "      <td>2895</td>\n",
       "      <td>1.0</td>\n",
       "      <td>0</td>\n",
       "      <td>Fiat Grande Punto 1.3 MJet Actual</td>\n",
       "    </tr>\n",
       "    <tr>\n",
       "      <th>7</th>\n",
       "      <td>2007</td>\n",
       "      <td>238443</td>\n",
       "      <td>75</td>\n",
       "      <td>1749</td>\n",
       "      <td>1.0</td>\n",
       "      <td>0</td>\n",
       "      <td>Fiat Grande Punto 1.3 JTD Active</td>\n",
       "    </tr>\n",
       "    <tr>\n",
       "      <th>8</th>\n",
       "      <td>2006</td>\n",
       "      <td>208650</td>\n",
       "      <td>77</td>\n",
       "      <td>1850</td>\n",
       "      <td>1.0</td>\n",
       "      <td>1</td>\n",
       "      <td>Fiat Grande Punto 1.4 Edizione Prima</td>\n",
       "    </tr>\n",
       "    <tr>\n",
       "      <th>9</th>\n",
       "      <td>2006</td>\n",
       "      <td>176540</td>\n",
       "      <td>78</td>\n",
       "      <td>2440</td>\n",
       "      <td>1.0</td>\n",
       "      <td>1</td>\n",
       "      <td>Fiat Grande Punto 1.4 Edizione Prima 2006 NAP!...</td>\n",
       "    </tr>\n",
       "  </tbody>\n",
       "</table>\n",
       "</div>"
      ],
      "text/plain": [
       "   bouwjaar  kilometer_stand  vermogen  prijs  is_handgeschakeld  is_benzine  \\\n",
       "0      2008           169504        78   2950                0.0           1   \n",
       "1      2007           219718        65   1950                1.0           1   \n",
       "2      2006           199908        95   1895                1.0           1   \n",
       "3      2006           139057        65   2950                1.0           1   \n",
       "4      2007           222844        95   1950                1.0           1   \n",
       "5      2008           187215        65   2450                1.0           1   \n",
       "6      2010           194607        86   2895                1.0           0   \n",
       "7      2007           238443        75   1749                1.0           0   \n",
       "8      2006           208650        77   1850                1.0           1   \n",
       "9      2006           176540        78   2440                1.0           1   \n",
       "\n",
       "                                               titel  \n",
       "0  Fiat Grande Punto 1.416V Emotion 5dr Automaat ...  \n",
       "1  Fiat Grande Punto 1.2 Edizione Cool AIRCO,CRUI...  \n",
       "2         Fiat Grande Punto 1.416V Emotion AIRCO/APK  \n",
       "3    Fiat Grande Punto 1.2 Sportsound met Nap, Airco  \n",
       "4     Fiat Grande Punto 1.416V Emotion APK/NAP/CLIMA  \n",
       "5  Fiat Grande Punto 1.2 Active AIRCO APK 2019 (b...  \n",
       "6                  Fiat Grande Punto 1.3 MJet Actual  \n",
       "7                   Fiat Grande Punto 1.3 JTD Active  \n",
       "8               Fiat Grande Punto 1.4 Edizione Prima  \n",
       "9  Fiat Grande Punto 1.4 Edizione Prima 2006 NAP!...  "
      ]
     },
     "execution_count": 2,
     "metadata": {},
     "output_type": "execute_result"
    }
   ],
   "source": [
    "conn = sqlite3.connect('../db.sqlite3')\n",
    "df_raw = pd.read_sql_query('''\n",
    "SELECT \"bouwjaar\", \"kilometer_stand\", \"vermogen\", \"prijs\", \"is_handgeschakeld\", \"is_benzine\", \"titel\" \n",
    "FROM scraper_auto\n",
    "WHERE prijs < 20000 AND prijs > 900 AND kilometer_stand < 300000\n",
    "''', conn)\n",
    "df = df_raw.dropna()\n",
    "df.head(10)"
   ]
  },
  {
   "cell_type": "code",
   "execution_count": 3,
   "metadata": {},
   "outputs": [],
   "source": [
    "df_train, df_test = train_test_split(df, test_size=0.2)\n",
    "\n",
    "X_train = df_train.drop(['prijs'], axis=1)\n",
    "y_train = df_train[['prijs']]\n",
    "\n",
    "X_test = df_test.drop(['prijs'], axis=1)\n",
    "y_test = df_test[['prijs']]"
   ]
  },
  {
   "cell_type": "code",
   "execution_count": 4,
   "metadata": {},
   "outputs": [],
   "source": [
    "class TextPreprocessor(BaseEstimator, TransformerMixin):\n",
    "    def fit(self, X, y=None):\n",
    "        return self\n",
    "    \n",
    "    def transform(self, x):\n",
    "        x = x.str.replace('[^a-zA-Z]+', ' ', regex=True)\n",
    "        x = x.str.replace(r'\\b\\w{1,3}\\b', '', regex=True)\n",
    "        x = x.str.lower()\n",
    "        return x\n",
    "\n",
    "numeric_transformer = Pipeline(steps=[\n",
    "    ('imputer', SimpleImputer(strategy='median')),\n",
    "    ('scaler', MinMaxScaler())\n",
    "])\n",
    "\n",
    "text_transformer = Pipeline(steps=[\n",
    "    ('preprocessor', TextPreprocessor()),\n",
    "    ('vectorizer',  CountVectorizer())\n",
    "])\n",
    "\n",
    "preprocessor = ColumnTransformer(\n",
    "    transformers=[\n",
    "        ('numeric', numeric_transformer, ['bouwjaar', \"kilometer_stand\", \"vermogen\"]),\n",
    "        ('text',  text_transformer, 'titel')\n",
    "    ],\n",
    "    remainder='passthrough'\n",
    ")"
   ]
  },
  {
   "cell_type": "code",
   "execution_count": 5,
   "metadata": {},
   "outputs": [
    {
     "data": {
      "text/html": [
       "<div>\n",
       "<style scoped>\n",
       "    .dataframe tbody tr th:only-of-type {\n",
       "        vertical-align: middle;\n",
       "    }\n",
       "\n",
       "    .dataframe tbody tr th {\n",
       "        vertical-align: top;\n",
       "    }\n",
       "\n",
       "    .dataframe thead th {\n",
       "        text-align: right;\n",
       "    }\n",
       "</style>\n",
       "<table border=\"1\" class=\"dataframe\">\n",
       "  <thead>\n",
       "    <tr style=\"text-align: right;\">\n",
       "      <th></th>\n",
       "      <th>MAE</th>\n",
       "      <th>STD</th>\n",
       "    </tr>\n",
       "    <tr>\n",
       "      <th>name</th>\n",
       "      <th></th>\n",
       "      <th></th>\n",
       "    </tr>\n",
       "  </thead>\n",
       "  <tbody>\n",
       "    <tr>\n",
       "      <th>GradientBoostingRegressor</th>\n",
       "      <td>497</td>\n",
       "      <td>38</td>\n",
       "    </tr>\n",
       "    <tr>\n",
       "      <th>Lasso</th>\n",
       "      <td>532</td>\n",
       "      <td>37</td>\n",
       "    </tr>\n",
       "    <tr>\n",
       "      <th>DecisionTreeRegressor</th>\n",
       "      <td>659</td>\n",
       "      <td>48</td>\n",
       "    </tr>\n",
       "    <tr>\n",
       "      <th>KNeighborsRegressor</th>\n",
       "      <td>762</td>\n",
       "      <td>39</td>\n",
       "    </tr>\n",
       "    <tr>\n",
       "      <th>SVC</th>\n",
       "      <td>1170</td>\n",
       "      <td>143</td>\n",
       "    </tr>\n",
       "    <tr>\n",
       "      <th>SVR</th>\n",
       "      <td>1546</td>\n",
       "      <td>260</td>\n",
       "    </tr>\n",
       "  </tbody>\n",
       "</table>\n",
       "</div>"
      ],
      "text/plain": [
       "                              MAE  STD\n",
       "name                                  \n",
       "GradientBoostingRegressor     497   38\n",
       "Lasso                         532   37\n",
       "DecisionTreeRegressor         659   48\n",
       "KNeighborsRegressor           762   39\n",
       "SVC                          1170  143\n",
       "SVR                          1546  260"
      ]
     },
     "execution_count": 5,
     "metadata": {},
     "output_type": "execute_result"
    }
   ],
   "source": [
    "pipelines = [\n",
    "    ('DecisionTreeRegressor      ', Pipeline([('preprocessor', preprocessor),('', DecisionTreeRegressor())])),\n",
    "    ('Lasso                      ', Pipeline([('preprocessor', preprocessor),('', Lasso())])),\n",
    "    ('SVC                      ', Pipeline([('preprocessor', preprocessor),('', SVC())])),\n",
    "    ('SVR                      ', Pipeline([('preprocessor', preprocessor),('', SVR())])),\n",
    "    ('KNeighborsRegressor        ', Pipeline([('preprocessor', preprocessor),('', KNeighborsRegressor())])),\n",
    "    ('GradientBoostingRegressor  ', Pipeline([('preprocessor', preprocessor),('', GradientBoostingRegressor())]))\n",
    "]\n",
    "\n",
    "results = []\n",
    "for name, model in pipelines:\n",
    "    kfold = KFold(n_splits=10)\n",
    "    cv_results = cross_val_score(model, X_train, y_train, cv=kfold, scoring='neg_mean_absolute_error')\n",
    "    results.append([name, abs(cv_results.mean()), cv_results.std()])\n",
    "    \n",
    "pd.DataFrame(results, columns=['name', 'MAE', 'STD']).set_index('name').astype('int').sort_values(by='MAE')"
   ]
  },
  {
   "cell_type": "code",
   "execution_count": 6,
   "metadata": {},
   "outputs": [
    {
     "name": "stdout",
     "output_type": "stream",
     "text": [
      "Best result: 498.830\n"
     ]
    },
    {
     "data": {
      "text/plain": [
       "{'preprocessor__text__vectorizer__ngram_range': (1, 3),\n",
       " 'preprocessor__numeric__imputer__strategy': 'mean',\n",
       " 'classifier__loss': 'huber'}"
      ]
     },
     "execution_count": 6,
     "metadata": {},
     "output_type": "execute_result"
    }
   ],
   "source": [
    "param_grid = {\n",
    "    'preprocessor__numeric__imputer__strategy': ['mean', 'median'],\n",
    "    'preprocessor__text__vectorizer__ngram_range': [(1,1), (1,2), (1,3)],\n",
    "    'classifier__loss': ['ls', 'lad', 'huber', 'quantile'],\n",
    "#     'classifier__learning_rate': np.arange(0, 0.5, 0.1)\n",
    "}\n",
    "\n",
    "clf = Pipeline(steps=[('preprocessor', preprocessor),\n",
    "                      ('classifier', GradientBoostingRegressor())\n",
    "])\n",
    "\n",
    "grid_search = RandomizedSearchCV(\n",
    "    clf, \n",
    "    param_grid, \n",
    "    cv=10,\n",
    "    scoring='neg_mean_absolute_error',\n",
    "    n_jobs=-1\n",
    ")\n",
    "\n",
    "grid_search.fit(X_train, y_train)\n",
    "\n",
    "print((\"Best result: %.3f\" % abs(grid_search.score(X_test, y_test))))\n",
    "\n",
    "grid_search.best_params_"
   ]
  },
  {
   "cell_type": "code",
   "execution_count": 7,
   "metadata": {},
   "outputs": [
    {
     "name": "stdout",
     "output_type": "stream",
     "text": [
      "Mean absolute error:\t 498\n",
      "Mean squared error:\t 464682\n"
     ]
    }
   ],
   "source": [
    "y_pred = grid_search.best_estimator_.predict(X_test)\n",
    "evaluate_model(y_test, y_pred)"
   ]
  },
  {
   "cell_type": "code",
   "execution_count": 8,
   "metadata": {},
   "outputs": [
    {
     "data": {
      "image/png": "[encoded data removed]",
      "text/plain": [
       "<Figure size 1080x360 with 1 Axes>"
      ]
     },
     "metadata": {
      "needs_background": "light"
     },
     "output_type": "display_data"
    }
   ],
   "source": [
    "plt.figure(figsize=(15,5))\n",
    "plt.scatter(y_test,y_pred,c='green')\n",
    "plt.plot([0,5000], [0,5000])\n",
    "plt.xlabel('Actual price')\n",
    "plt.ylabel('Predicted price')\n",
    "plt.xlim(0, 5000)\n",
    "plt.ylim(0, 5000)\n",
    "plt.show()"
   ]
  },
  {
   "cell_type": "code",
   "execution_count": 9,
   "metadata": {},
   "outputs": [
    {
     "data": {
      "text/plain": [
       "['Regressor']"
      ]
     },
     "execution_count": 9,
     "metadata": {},
     "output_type": "execute_result"
    }
   ],
   "source": [
    "joblib.dump(grid_search.best_estimator_, 'Regressor')"
   ]
  },
  {
   "cell_type": "code",
   "execution_count": null,
   "metadata": {},
   "outputs": [],
   "source": []
  }
 ],
 "metadata": {
  "kernelspec": {
   "display_name": "Python 3",
   "language": "python",
   "name": "python3"
  },
  "language_info": {
   "codemirror_mode": {
    "name": "ipython",
    "version": 3
   },
   "file_extension": ".py",
   "mimetype": "text/x-python",
   "name": "python",
   "nbconvert_exporter": "python",
   "pygments_lexer": "ipython3",
   "version": "3.8.3"
  }
 },
 "nbformat": 4,
 "nbformat_minor": 4
}
